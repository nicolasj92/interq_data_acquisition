{
 "cells": [
  {
   "cell_type": "code",
   "execution_count": 1,
   "metadata": {},
   "outputs": [],
   "source": [
    "import nidaqmx\n",
    "import numpy as np\n",
    "import time"
   ]
  },
  {
   "cell_type": "code",
   "execution_count": 4,
   "metadata": {},
   "outputs": [
    {
     "name": "stdout",
     "output_type": "stream",
     "text": [
      "(4, 0)\n"
     ]
    },
    {
     "name": "stderr",
     "output_type": "stream",
     "text": [
      "sys:1: ResourceWarning: unclosed socket <zmq.Socket(zmq.PUSH) at 0x1be6cc22f40>\n",
      "ResourceWarning: Enable tracemalloc to get the object allocation traceback\n"
     ]
    },
    {
     "name": "stdout",
     "output_type": "stream",
     "text": [
      "(4, 2596)\n"
     ]
    },
    {
     "name": "stderr",
     "output_type": "stream",
     "text": [
      "sys:1: ResourceWarning: unclosed socket <zmq.Socket(zmq.PUSH) at 0x1be6cc22f40>\n",
      "ResourceWarning: Enable tracemalloc to get the object allocation traceback\n"
     ]
    },
    {
     "name": "stdout",
     "output_type": "stream",
     "text": [
      "(4, 2644)\n"
     ]
    },
    {
     "name": "stderr",
     "output_type": "stream",
     "text": [
      "sys:1: ResourceWarning: unclosed socket <zmq.Socket(zmq.PUSH) at 0x1be6cc22f40>\n",
      "ResourceWarning: Enable tracemalloc to get the object allocation traceback\n"
     ]
    },
    {
     "name": "stdout",
     "output_type": "stream",
     "text": [
      "(4, 2611)\n"
     ]
    },
    {
     "name": "stderr",
     "output_type": "stream",
     "text": [
      "sys:1: ResourceWarning: unclosed socket <zmq.Socket(zmq.PUSH) at 0x1be6cc22f40>\n",
      "ResourceWarning: Enable tracemalloc to get the object allocation traceback\n"
     ]
    },
    {
     "name": "stdout",
     "output_type": "stream",
     "text": [
      "(4, 2596)\n"
     ]
    },
    {
     "name": "stderr",
     "output_type": "stream",
     "text": [
      "sys:1: ResourceWarning: unclosed socket <zmq.Socket(zmq.PUSH) at 0x1be6cc22f40>\n",
      "ResourceWarning: Enable tracemalloc to get the object allocation traceback\n"
     ]
    },
    {
     "name": "stdout",
     "output_type": "stream",
     "text": [
      "(4, 2654)\n"
     ]
    },
    {
     "name": "stderr",
     "output_type": "stream",
     "text": [
      "sys:1: ResourceWarning: unclosed socket <zmq.Socket(zmq.PUSH) at 0x1be6cc22f40>\n",
      "ResourceWarning: Enable tracemalloc to get the object allocation traceback\n"
     ]
    },
    {
     "name": "stdout",
     "output_type": "stream",
     "text": [
      "(4, 2578)\n"
     ]
    },
    {
     "name": "stderr",
     "output_type": "stream",
     "text": [
      "sys:1: ResourceWarning: unclosed socket <zmq.Socket(zmq.PUSH) at 0x1be6cc22f40>\n",
      "ResourceWarning: Enable tracemalloc to get the object allocation traceback\n"
     ]
    },
    {
     "name": "stdout",
     "output_type": "stream",
     "text": [
      "(4, 2590)\n"
     ]
    },
    {
     "name": "stderr",
     "output_type": "stream",
     "text": [
      "sys:1: ResourceWarning: unclosed socket <zmq.Socket(zmq.PUSH) at 0x1be6cc22f40>\n",
      "ResourceWarning: Enable tracemalloc to get the object allocation traceback\n"
     ]
    },
    {
     "name": "stdout",
     "output_type": "stream",
     "text": [
      "(4, 2628)\n"
     ]
    },
    {
     "name": "stderr",
     "output_type": "stream",
     "text": [
      "sys:1: ResourceWarning: unclosed socket <zmq.Socket(zmq.PUSH) at 0x1be6cc22f40>\n",
      "ResourceWarning: Enable tracemalloc to get the object allocation traceback\n"
     ]
    },
    {
     "name": "stdout",
     "output_type": "stream",
     "text": [
      "(4, 2573)\n"
     ]
    },
    {
     "name": "stderr",
     "output_type": "stream",
     "text": [
      "sys:1: ResourceWarning: unclosed socket <zmq.Socket(zmq.PUSH) at 0x1be6cc22f40>\n",
      "ResourceWarning: Enable tracemalloc to get the object allocation traceback\n"
     ]
    }
   ],
   "source": [
    "class DAQ:\n",
    "\n",
    "\tdef __init__(self, sampling_rate, samples_per_channel):\n",
    "\t\tself.sampling_rate = sampling_rate\n",
    "\t\t#equals buffer size in case of continuous acquisition\n",
    "\t\tself.samples_per_channel = samples_per_channel\n",
    "\t\tself.data = None\n",
    "\t\n",
    "\tdef write_data_to_txt_file(self):\n",
    "\t\tfile = open('test_data.txt', 'a')\n",
    "\t\tfile.writelines(str(self.data))\n",
    "\t\tfile.close()\n",
    "\n",
    "\t#Callback might be unneccessary, in case it is possible to write data like this into influx db\n",
    "\tdef callback(self, task_handle, every_n_sample_event_type, number_of_samples, callback_data):\n",
    "\t\tprint(np.shape(self.data))\n",
    "\t\tself.write_data_to_txt_file()\n",
    "\t\treturn 0\n",
    "\t\n",
    "\tdef __call__(self):\n",
    "\t\ttask = nidaqmx.task.Task()\n",
    "\t\ttask.ai_channels.add_ai_voltage_chan('Mod1/ai0:3')\n",
    "\t\ttask.timing.cfg_samp_clk_timing(\n",
    "\t\t\trate=self.sampling_rate,\n",
    "\t\t\tsample_mode=nidaqmx.constants.AcquisitionType.CONTINUOUS,\n",
    "\t\t\t#sample_mode=nidaqmx.constants.AcquisitionType.FINITE,\n",
    "\t\t\tsamps_per_chan=self.samples_per_channel)\n",
    "\t\ttask.register_every_n_samples_acquired_into_buffer_event(self.sampling_rate, self.callback)\n",
    "\t\ttask.start()\n",
    "\t\tt = 0\n",
    "\t\twhile t < 10:\n",
    "\t\t\tself.data = task.read(number_of_samples_per_channel = nidaqmx.constants.READ_ALL_AVAILABLE)\n",
    "\t\t\t#self.data = task.read(number_of_samples_per_channel = self.sampling_rate)\n",
    "\t\t\t#print(np.shape(self.data))\n",
    "\t\t\t#print(self.data)\n",
    "\t\t\ttime.sleep(1)\n",
    "\t\t\tt+=1\n",
    "\t\ttask.stop()\n",
    "\t\ttask.close()\n",
    "\n",
    "\n",
    "daq = DAQ(sampling_rate = 2500, samples_per_channel = 10000)\n",
    "daq()"
   ]
  }
 ],
 "metadata": {
  "interpreter": {
   "hash": "c0d4d35adfdbb8ccf64ba68d454b7e82458a2a98016f0633ac979e4ace4391c8"
  },
  "kernelspec": {
   "display_name": "Python 3.7.3 ('base')",
   "language": "python",
   "name": "python3"
  },
  "language_info": {
   "codemirror_mode": {
    "name": "ipython",
    "version": 3
   },
   "file_extension": ".py",
   "mimetype": "text/x-python",
   "name": "python",
   "nbconvert_exporter": "python",
   "pygments_lexer": "ipython3",
   "version": "3.9.5"
  },
  "orig_nbformat": 4
 },
 "nbformat": 4,
 "nbformat_minor": 2
}
